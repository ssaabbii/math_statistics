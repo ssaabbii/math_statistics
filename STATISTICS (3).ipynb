{
 "cells": [
  {
   "cell_type": "markdown",
   "id": "fc31e056",
   "metadata": {},
   "source": [
    "#                                    Расчетное задание №2     \n",
    "\n",
    "#                                           Вариант №10\n",
    "\n",
    "\n",
    "##                                                                                             работу выполнила: \n",
    "##                                                                                             Нурдолотова Сабина, группа 20930\n"
   ]
  },
  {
   "cell_type": "markdown",
   "id": "48a23f44",
   "metadata": {},
   "source": [
    "### Задание:\n",
    "\n",
    "В сети параллельно работает K одинаковых концентраторов. Концентратор сети\n",
    "с коммутацией пакетов обрабатывает пакеты со средней длиной N бит при\n",
    "скорости передачи в канале V бит/с. Полный входной поток имеет\n",
    "интенсивность λ1 пакет/с днем и λ2 пакет/с ночью. Концентратор имеет размер\n",
    "буфера B средних пакетов. Размер очереди равен B-1.\n",
    "1. Определить вероятность блокировки пакета днем и ночью, если входной и\n",
    "выходной поток являются пуассоновскими (4 балла).\n",
    "2. Определить вероятность блокировки пакета в задаче 1, используя метод\n",
    "Монте-Карло. Сравнить результаты (6 баллов).\n",
    "3. Определить оптимальный размер буфера, чтобы вероятность блокировки\n",
    "пакета не превышала 0.0001 (4 балла).\n",
    "\n",
    "### Условие: \n",
    "\n",
    "- K = 2 \n",
    "- V = 5000 бит/с\n",
    "- N = 2400 бит\n",
    "- λ1 = 2 пакет/c\n",
    "- λ2 = 0.5 пакет/c\n",
    "- B = 7\n"
   ]
  },
  {
   "cell_type": "markdown",
   "id": "12dd05ae",
   "metadata": {},
   "source": [
    "### *Пункт №1*\n"
   ]
  },
  {
   "attachments": {
    "image-2.png": {
     "image/png": "[encoded data removed]"
    },
    "image.png": {
     "image/png": "[encoded data removed]"
    }
   },
   "cell_type": "markdown",
   "id": "07fc0e97",
   "metadata": {},
   "source": [
    "#### Дана многоканальная СМО с ограниченной очередью ####\n",
    "\n",
    "#### *Используемые формулы:* ####\n",
    "\n",
    "1) ![image.png](attachment:image.png)\n",
    "\n",
    "2) ![image-2.png](attachment:image-2.png)"
   ]
  },
  {
   "cell_type": "code",
   "execution_count": 4,
   "id": "52436735",
   "metadata": {
    "scrolled": false
   },
   "outputs": [
    {
     "name": "stdout",
     "output_type": "stream",
     "text": [
      "Вероятность отказа днем: 0.0019837917159711035\n",
      "Вероятность отказа ночью: 6.756855285114086e-08\n"
     ]
    }
   ],
   "source": [
    "import math \n",
    "\n",
    "# интенсивность нагрузки ρ = λ/μ\n",
    "# интенсивность потока μ = 1/t, где t - время обслуживания\n",
    "V = 5000\n",
    "N = 2400\n",
    "λ1 = 2\n",
    "λ2 = 0.5\n",
    "K = 2\n",
    "B = 7\n",
    "m = B - 1\n",
    "\n",
    "t = N/V  # таким образом время обслуживания одного пакета t = 0,48 секунд\n",
    "μ = 1/t  # μ =~ 2,08(3)\n",
    "\n",
    "p1 = λ1/μ  # интенсивность нагрузки днем p1 =~ 0.96\n",
    "p2 = λ2/μ  # интенсивность нагрузки ночью p2 =~ 0.24\n",
    "\n",
    "def func1(p):  # функция для поиска p0 \n",
    "    p0 = 0\n",
    "    for i in range(0, K+1):\n",
    "        p0 += (p**i)/math.factorial(i)\n",
    "    a = p**(K + 1)/(math.factorial(K) * (K - p))  \n",
    "    b = 1 - (p/K)**m\n",
    "    p0 = p0 + a*b\n",
    "    \n",
    "    return p0**(-1)                               \n",
    "    \n",
    "p10 = func1(p1) # p0, т. е. вероятность, что канал свободен (день) =~ 0,3519\n",
    "p20 = func1(p2) # p0, т. е. вероятность, что канал свободен (вечер) =~ 0,7857 \n",
    "\n",
    "def func2(p, p0): # функция для поиска вероятности отказа\n",
    "    a = p**(K+m)\n",
    "    b = (K**m)*math.factorial(K)\n",
    "    P = a / b\n",
    "    P = P * p0\n",
    "    return P\n",
    "\n",
    "          \n",
    "print(\"Вероятность отказа днем:\", end=\" \")\n",
    "print(func2(p1, p10))\n",
    "print(\"Вероятность отказа ночью:\", end=\" \")\n",
    "print(func2(p2, p20)) # почти ноль  \n",
    "        "
   ]
  },
  {
   "cell_type": "markdown",
   "id": "5bc01e9f",
   "metadata": {},
   "source": [
    "### Заключение ###\n",
    "\n",
    "Вероятность блокировки пакета днем равна приблизительно 0.0019, тогда можно сделать вывод, что *блокировок пакетов не происходит, и все они обрабатываются*.\n",
    "\n",
    "Вероятность блокировки пакета ночью стремится к нулю, тогда аналогично *блокировки не происходят, и все пакеты обрабатываются*\n"
   ]
  },
  {
   "cell_type": "markdown",
   "id": "864a62f2",
   "metadata": {},
   "source": [
    "### *Пункт №2*"
   ]
  },
  {
   "cell_type": "code",
   "execution_count": 19,
   "id": "4939e3be",
   "metadata": {},
   "outputs": [
    {
     "name": "stdout",
     "output_type": "stream",
     "text": [
      "Вероятность отказа днем:0.0019820000000000016\n",
      "Вероятность отказа ночью:0.0\n"
     ]
    }
   ],
   "source": [
    "import random\n",
    "import numpy as np\n",
    "\n",
    "# Интесивность входного потока днем\n",
    "lambda_day = 2\n",
    "# Интесивность входного потока ночью\n",
    "lambda_night = 0.5\n",
    "# Максимальный размер очереди\n",
    "m = 6\n",
    "# Интенсивность выходного потока\n",
    "mu = 2.08\n",
    "# количество концентраторов\n",
    "k=2\n",
    "def model(lambda_):\n",
    "    # Количество пакетов\n",
    "    n_packets = 1000\n",
    "    # Текущее время\n",
    "    t = 0\n",
    "    # текущий размер очереди первого конценратора\n",
    "    queue = 0\n",
    "    # время, когда  прибор освободится\n",
    "    t_free = [0, 0]\n",
    "    # Количество потярянных пактеов\n",
    "    n_lost = 0\n",
    "    for _ in range(n_packets):\n",
    "        # время поступления нового пакета\n",
    "        t += np.random.exponential(scale=1 / lambda_)\n",
    "        # счетчик для количества концентраторов\n",
    "        n = 0\n",
    "        if queue > 0:\n",
    "            for j in range(k):\n",
    "                while t_free[j] < t and queue > 0:\n",
    "                    # обрабатываем пакеты из очереди до момента t\n",
    "                    t_free[j] += np.random.exponential(scale=1/mu)\n",
    "                    queue -= 1\n",
    "        for h in range(k):\n",
    "            # проверяем, свободен ли концентратор\n",
    "            if t_free[h] < t:\n",
    "                # Концентратор свободен, определяем время обслуживания\n",
    "                t_free[h] = t + np.random.exponential(scale=1/mu)\n",
    "                break\n",
    "            else:\n",
    "                # h - тый онцентратор занят\n",
    "                n += 1\n",
    "        # если все концентраторы заняты\n",
    "        if n == k:\n",
    "            if queue < m:\n",
    "                # ставим пакет в очередь\n",
    "                queue += 1\n",
    "            else:\n",
    "                # иначе пакет теряется\n",
    "                n_lost += 1\n",
    "\n",
    "    return n_lost / n_packets\n",
    "\n",
    "\n",
    "# Инициализация генеротора случайных чисел\n",
    "np.random.seed(100)\n",
    "# Количество повторов в методе Монте-Карло\n",
    "n_rep = 500\n",
    "# Вероятность блокировки днем\n",
    "p_refuse1 = 0\n",
    "# Вероятность блокировки вечером\n",
    "p_refuse2 = 0 \n",
    "# Имитационное моделирование\n",
    "for i in range(n_rep):\n",
    "    p_refuse1 += model(lambda_day)\n",
    "    p_refuse2 += model(lambda_night)\n",
    "    # Оценка вероятности блокировки\n",
    "p_refuse1 /= n_rep\n",
    "p_refuse2 /= n_rep\n",
    "print('Вероятность отказа днем:' +str(p_refuse1)) \n",
    "print('Вероятность отказа ночью:' +str(p_refuse2)) "
   ]
  },
  {
   "cell_type": "markdown",
   "id": "0def9673",
   "metadata": {},
   "source": [
    "###  Заключение ###\n",
    "\n",
    "Вероятности, подсчитанные в первом и втором пункте почти совпадают (до пятого знака после запятой - точно совпадают), следовательно выводы можно сделать аналогичные.\n",
    "\n",
    "Вероятность блокировки пакета днем равна приблизительно 0.0019, тогда можно сделать вывод, что блокировок пакетов не происходит, и все они обрабатываются.\n",
    "\n",
    "Вероятность блокировки пакета ночью стремится к нулю, тогда аналогично блокировки не происходят, и все пакеты обрабатываются"
   ]
  },
  {
   "cell_type": "markdown",
   "id": "0ab55874",
   "metadata": {},
   "source": [
    "### Пункт №3 ###\n"
   ]
  },
  {
   "attachments": {
    "image.png": {
     "image/png": "[encoded data removed]"
    }
   },
   "cell_type": "markdown",
   "id": "9b7c828f",
   "metadata": {},
   "source": [
    "#### Необходимо найти m из формулы ниже: ####\n",
    "![image.png](attachment:image.png)"
   ]
  },
  {
   "cell_type": "code",
   "execution_count": 31,
   "id": "8d234801",
   "metadata": {},
   "outputs": [
    {
     "name": "stdout",
     "output_type": "stream",
     "text": [
      "Оптимальный размер буфера, чтобы вероятность блокировки пакета не превышала 0.0001:\n",
      "1) Днем:  12\n",
      "при B = 12 , вероятность p =  0.000050\n",
      "\n",
      "2) Вечером:  4\n",
      "при B = 4 , вероятность p =  0.000039\n"
     ]
    }
   ],
   "source": [
    "import math \n",
    "\n",
    "# интенсивность нагрузки ρ = λ/μ\n",
    "# интенсивность потока μ = 1/t, где t - время обслуживания\n",
    "V = 5000\n",
    "N = 2400\n",
    "λ1 = 2\n",
    "λ2 = 0.5\n",
    "K = 2\n",
    "B = 7\n",
    "m = B - 1\n",
    "\n",
    "t = N/V  # таким образом время обслуживания одного пакета t = 0,48 секунд\n",
    "μ = 1/t  # μ =~ 2,08(3)\n",
    "\n",
    "p1 = λ1/μ  # интенсивность нагрузки днем p1 =~ 0.96\n",
    "p2 = λ2/μ  # интенсивность нагрузки ночью p2 =~ 0.24\n",
    "\n",
    "def func1(p):  # функция для поиска p0 \n",
    "    p0 = 0\n",
    "    for i in range(0, K+1):\n",
    "        p0 += (p**i)/math.factorial(i)\n",
    "    a = p**(K + 1)/(math.factorial(K) * (K - p))  \n",
    "    b = 1 - (p/K)**m\n",
    "    p0 = p0 + a*b\n",
    "    \n",
    "    return p0**(-1)                               \n",
    "    \n",
    "p10 = func1(p1) # p0, т. е. вероятность, что канал свободен (день) \n",
    "p20 = func1(p2) # p0, т. е. вероятность, что канал свободен (вечер) \n",
    "\n",
    "def func2(p, p0): # функция для поиска вероятности отказа\n",
    "    a = p**(K+m)\n",
    "    b = (K**m)*math.factorial(K)\n",
    "    P = a / b\n",
    "    P = P * p0\n",
    "    return P\n",
    "\n",
    "    \n",
    "print(\"Оптимальный размер буфера, чтобы вероятность блокировки пакета не превышала 0.0001:\")\n",
    "p = 1\n",
    "while p > 0.0001: # просто перебором ищем оптимальное B для дня\n",
    "    B += 1\n",
    "    m = B - 1\n",
    "    p10 = func1(p1) \n",
    "    p = func2(p1,p10)\n",
    "print(\"1) Днем: \", B) \n",
    "print(\"при B = 12 , вероятность p = \", format(p, '.6f'))    # вероятность отказа равна 0.00010512563058596704 при B = 11\n",
    "                                                            # вероятность отказа равна 0.000050457756567595 при B = 12 => ответ 12\n",
    " \n",
    "\n",
    "B = 1\n",
    "m = B - 1\n",
    "p = 1\n",
    "while p > 0.0001: # просто перебором ищем оптимальное B для ночи\n",
    "    B += 1\n",
    "    m = B - 1\n",
    "    p10 = func1(p1) \n",
    "    p = func2(p2,p20)\n",
    "print()    \n",
    "print(\"2) Вечером: \", B)                                  # вероятность отказа равна 0.000326 при B = 3\n",
    "print(\"при B = 4 , вероятность p = \", format(p, '.6f'))# вероятность отказа равна 0.000039102171788854 при B = 4 => ответ 4\n",
    "    \n"
   ]
  },
  {
   "cell_type": "markdown",
   "id": "8b41e4da",
   "metadata": {},
   "source": [
    "### Заключение ###\n",
    "\n",
    "Для того, чтобы получить вероятность блокировки не больше, чем 0.0001\n",
    "нужно предусмотреть буфер длиной *не менее 12 пакетов днем и 4 ночью*\n"
   ]
  }
 ],
 "metadata": {
  "kernelspec": {
   "display_name": "Python 3",
   "language": "python",
   "name": "python3"
  }
 },
 "nbformat": 4,
 "nbformat_minor": 5
}
